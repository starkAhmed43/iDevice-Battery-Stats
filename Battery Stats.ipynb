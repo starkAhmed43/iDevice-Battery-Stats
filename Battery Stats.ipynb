{
 "cells": [
  {
   "cell_type": "code",
   "execution_count": null,
   "metadata": {},
   "outputs": [],
   "source": [
    "from pathlib import Path\n",
    "from tqdm.auto import tqdm\n",
    "import os\n",
    "import re"
   ]
  },
  {
   "cell_type": "code",
   "execution_count": null,
   "metadata": {},
   "outputs": [],
   "source": [
    "analytics_path = Path(\"./iDevice Analytics\")\n",
    "analytics_path.mkdir(exist_ok=True)\n",
    "\n",
    "battery_stats_path = Path(\"./Battery Stats\")\n",
    "battery_stats_path.mkdir(exist_ok=True)"
   ]
  },
  {
   "cell_type": "code",
   "execution_count": null,
   "metadata": {},
   "outputs": [],
   "source": [
    "final_output = \"\"\n",
    "files = sorted([f for f in os.listdir(analytics_path) if f.endswith('.ips.ca.synced')])\n",
    "start_date = \".\".join(reversed(files[0][10:-21].split(\"-\")))\n",
    "end_date = \".\".join(reversed(files[-1][10:-21].split(\"-\")))"
   ]
  },
  {
   "cell_type": "code",
   "execution_count": null,
   "metadata": {},
   "outputs": [],
   "source": [
    "for file in tqdm(files):\n",
    "    date = \".\".join(reversed(file[10:-21].split(\"-\")))\n",
    "    \n",
    "    with open(analytics_path / file, \"r\") as f:\n",
    "        data = f.read()\n",
    "\n",
    "    DeviceModel = re.search(r'\"os_version\":\\s*\"(.*?)\"', data).group(1).split(\" \")[0]\n",
    "    MaximumFCC = int(re.search(r'(?<=\\\"last_value_MaximumFCC\\\"\\:).*?.\\d+', data).group(0))\n",
    "    NominalChargeCapacity = int(re.search(r'(?<=\"last_value_NominalChargeCapacity\":).*?\\d+', data).group(0))\n",
    "    CycleCount = int(re.search(r'(?<=\\\"last_value_CycleCount\\\"\\:).*?.\\d+', data).group(0))\n",
    "    RealCapacity = round(NominalChargeCapacity * 100 / MaximumFCC, 2)\n",
    "\n",
    "    output = (\n",
    "        f\"Date: {date}\\n\"\n",
    "        f\"Your {DeviceModel} battery's real stats:\\n\"\n",
    "        f\"Maximum FCC (Original Maximum Capacity): {MaximumFCC} mAh\\n\"\n",
    "        f\"Nominal Charge Capacity (Current Maximum Capacity): {NominalChargeCapacity} mAh\\n\"\n",
    "        f\"Cycle Count (Number of Complete Charge Cycles): {CycleCount} cycles\\n\"\n",
    "        f\"Relative to when it was new, your battery capacity is {RealCapacity}%.\\n\\n\"\n",
    "    )\n",
    "    \n",
    "    final_output += output"
   ]
  },
  {
   "cell_type": "code",
   "execution_count": null,
   "metadata": {},
   "outputs": [],
   "source": [
    "with open(battery_stats_path / f\"battery_stats_{start_date}-{end_date}.txt\", \"w\") as f:\n",
    "    f.write(final_output.strip())"
   ]
  }
 ],
 "metadata": {
  "kernelspec": {
   "display_name": "iphone",
   "language": "python",
   "name": "python3"
  },
  "language_info": {
   "codemirror_mode": {
    "name": "ipython",
    "version": 3
   },
   "file_extension": ".py",
   "mimetype": "text/x-python",
   "name": "python",
   "nbconvert_exporter": "python",
   "pygments_lexer": "ipython3",
   "version": "3.11.9"
  }
 },
 "nbformat": 4,
 "nbformat_minor": 2
}
